{
 "cells": [
  {
   "cell_type": "code",
   "execution_count": 1,
   "metadata": {},
   "outputs": [
    {
     "name": "stderr",
     "output_type": "stream",
     "text": [
      "Using TensorFlow backend.\n"
     ]
    }
   ],
   "source": [
    "import pandas as pd\n",
    "import numpy as np\n",
    "import matplotlib.pyplot as plt\n",
    "import seaborn as sns\n",
    "import emoji as emoji\n",
    "from keras.utils import to_categorical\n",
    "from keras.models import Sequential,load_model\n",
    "from keras.layers import *\n",
    "from keras.callbacks import ModelCheckpoint, EarlyStopping\n",
    "import cv2"
   ]
  },
  {
   "cell_type": "code",
   "execution_count": 2,
   "metadata": {},
   "outputs": [],
   "source": [
    "df=pd.read_csv(\"fer2013.csv\")"
   ]
  },
  {
   "cell_type": "code",
   "execution_count": 3,
   "metadata": {},
   "outputs": [
    {
     "data": {
      "text/html": [
       "<div>\n",
       "<style scoped>\n",
       "    .dataframe tbody tr th:only-of-type {\n",
       "        vertical-align: middle;\n",
       "    }\n",
       "\n",
       "    .dataframe tbody tr th {\n",
       "        vertical-align: top;\n",
       "    }\n",
       "\n",
       "    .dataframe thead th {\n",
       "        text-align: right;\n",
       "    }\n",
       "</style>\n",
       "<table border=\"1\" class=\"dataframe\">\n",
       "  <thead>\n",
       "    <tr style=\"text-align: right;\">\n",
       "      <th></th>\n",
       "      <th>emotion</th>\n",
       "      <th>pixels</th>\n",
       "      <th>Usage</th>\n",
       "    </tr>\n",
       "  </thead>\n",
       "  <tbody>\n",
       "    <tr>\n",
       "      <th>0</th>\n",
       "      <td>0</td>\n",
       "      <td>70 80 82 72 58 58 60 63 54 58 60 48 89 115 121...</td>\n",
       "      <td>Training</td>\n",
       "    </tr>\n",
       "    <tr>\n",
       "      <th>1</th>\n",
       "      <td>0</td>\n",
       "      <td>151 150 147 155 148 133 111 140 170 174 182 15...</td>\n",
       "      <td>Training</td>\n",
       "    </tr>\n",
       "    <tr>\n",
       "      <th>2</th>\n",
       "      <td>2</td>\n",
       "      <td>231 212 156 164 174 138 161 173 182 200 106 38...</td>\n",
       "      <td>Training</td>\n",
       "    </tr>\n",
       "    <tr>\n",
       "      <th>3</th>\n",
       "      <td>4</td>\n",
       "      <td>24 32 36 30 32 23 19 20 30 41 21 22 32 34 21 1...</td>\n",
       "      <td>Training</td>\n",
       "    </tr>\n",
       "    <tr>\n",
       "      <th>4</th>\n",
       "      <td>6</td>\n",
       "      <td>4 0 0 0 0 0 0 0 0 0 0 0 3 15 23 28 48 50 58 84...</td>\n",
       "      <td>Training</td>\n",
       "    </tr>\n",
       "  </tbody>\n",
       "</table>\n",
       "</div>"
      ],
      "text/plain": [
       "   emotion                                             pixels     Usage\n",
       "0        0  70 80 82 72 58 58 60 63 54 58 60 48 89 115 121...  Training\n",
       "1        0  151 150 147 155 148 133 111 140 170 174 182 15...  Training\n",
       "2        2  231 212 156 164 174 138 161 173 182 200 106 38...  Training\n",
       "3        4  24 32 36 30 32 23 19 20 30 41 21 22 32 34 21 1...  Training\n",
       "4        6  4 0 0 0 0 0 0 0 0 0 0 0 3 15 23 28 48 50 58 84...  Training"
      ]
     },
     "execution_count": 3,
     "metadata": {},
     "output_type": "execute_result"
    }
   ],
   "source": [
    "df.head()"
   ]
  },
  {
   "cell_type": "code",
   "execution_count": 4,
   "metadata": {},
   "outputs": [
    {
     "data": {
      "text/plain": [
       "(35887, 3)"
      ]
     },
     "execution_count": 4,
     "metadata": {},
     "output_type": "execute_result"
    }
   ],
   "source": [
    "df.shape"
   ]
  },
  {
   "cell_type": "code",
   "execution_count": 5,
   "metadata": {},
   "outputs": [
    {
     "data": {
      "text/plain": [
       "emotion    0\n",
       "pixels     0\n",
       "Usage      0\n",
       "dtype: int64"
      ]
     },
     "execution_count": 5,
     "metadata": {},
     "output_type": "execute_result"
    }
   ],
   "source": [
    "df.isnull().sum()"
   ]
  },
  {
   "cell_type": "code",
   "execution_count": 6,
   "metadata": {},
   "outputs": [
    {
     "data": {
      "text/plain": [
       "Training       28709\n",
       "PublicTest      3589\n",
       "PrivateTest     3589\n",
       "Name: Usage, dtype: int64"
      ]
     },
     "execution_count": 6,
     "metadata": {},
     "output_type": "execute_result"
    }
   ],
   "source": [
    "df['Usage'].value_counts()"
   ]
  },
  {
   "cell_type": "code",
   "execution_count": 7,
   "metadata": {},
   "outputs": [
    {
     "data": {
      "text/plain": [
       "<matplotlib.axes._subplots.AxesSubplot at 0x1ead6b60308>"
      ]
     },
     "execution_count": 7,
     "metadata": {},
     "output_type": "execute_result"
    },
    {
     "data": {
      "image/png": "[encoded data removed]",
      "text/plain": [
       "<Figure size 432x288 with 1 Axes>"
      ]
     },
     "metadata": {
      "needs_background": "light"
     },
     "output_type": "display_data"
    }
   ],
   "source": [
    "sns.countplot(x=\"Usage\",data=df)"
   ]
  },
  {
   "cell_type": "code",
   "execution_count": 8,
   "metadata": {},
   "outputs": [],
   "source": [
    "Train=df[df['Usage']=='Training']"
   ]
  },
  {
   "cell_type": "code",
   "execution_count": 9,
   "metadata": {},
   "outputs": [],
   "source": [
    "Test=df[df['Usage']=='PublicTest']"
   ]
  },
  {
   "cell_type": "code",
   "execution_count": 10,
   "metadata": {},
   "outputs": [
    {
     "data": {
      "text/plain": [
       "(28709, 3)"
      ]
     },
     "execution_count": 10,
     "metadata": {},
     "output_type": "execute_result"
    }
   ],
   "source": [
    "Train.shape"
   ]
  },
  {
   "cell_type": "code",
   "execution_count": 20,
   "metadata": {},
   "outputs": [
    {
     "data": {
      "text/plain": [
       "<matplotlib.axes._subplots.AxesSubplot at 0x1ead6fa5248>"
      ]
     },
     "execution_count": 20,
     "metadata": {},
     "output_type": "execute_result"
    },
    {
     "data": {
      "image/png": "[encoded data removed]",
      "text/plain": [
       "<Figure size 432x288 with 1 Axes>"
      ]
     },
     "metadata": {
      "needs_background": "light"
     },
     "output_type": "display_data"
    }
   ],
   "source": [
    "sns.countplot(x=\"emotion\", data=Train)"
   ]
  },
  {
   "cell_type": "code",
   "execution_count": 12,
   "metadata": {},
   "outputs": [],
   "source": [
    "x_train=Train['pixels'].apply(lambda x: np.array(x.split(),dtype='float32'))\n",
    "y_train=Train['emotion']\n",
    "x_test=Test['pixels'].apply(lambda x: np.array(x.split(),dtype='float32'))\n",
    "y_test=Test['emotion']"
   ]
  },
  {
   "cell_type": "code",
   "execution_count": 13,
   "metadata": {},
   "outputs": [
    {
     "data": {
      "text/plain": [
       "(28709,)"
      ]
     },
     "execution_count": 13,
     "metadata": {},
     "output_type": "execute_result"
    }
   ],
   "source": [
    "x_train.shape"
   ]
  },
  {
   "cell_type": "code",
   "execution_count": 14,
   "metadata": {},
   "outputs": [
    {
     "data": {
      "text/plain": [
       "(3589,)"
      ]
     },
     "execution_count": 14,
     "metadata": {},
     "output_type": "execute_result"
    }
   ],
   "source": [
    "x_test.shape"
   ]
  },
  {
   "cell_type": "code",
   "execution_count": 15,
   "metadata": {},
   "outputs": [],
   "source": [
    "x_train /= 255.0\n",
    "x_test /= 255.0"
   ]
  },
  {
   "cell_type": "code",
   "execution_count": 16,
   "metadata": {},
   "outputs": [],
   "source": [
    "x_train=np.array(x_train)\n",
    "y_train=np.array(y_train)\n",
    "x_test=np.array(x_test)\n",
    "y_test=np.array(y_test)"
   ]
  },
  {
   "cell_type": "code",
   "execution_count": 17,
   "metadata": {},
   "outputs": [],
   "source": [
    "X_train=[]\n",
    "for i in range(x_train.shape[0]):\n",
    "    X_train.append(x_train[i].reshape(48,48,1))\n",
    "X_train=np.array(X_train)\n",
    "y_train=to_categorical(y_train)"
   ]
  },
  {
   "cell_type": "code",
   "execution_count": 18,
   "metadata": {},
   "outputs": [],
   "source": [
    "X_test=[]\n",
    "for i in range(x_test.shape[0]):\n",
    "    X_test.append(x_test[i].reshape(48,48,1))\n",
    "X_test=np.array(X_test)\n",
    "y_test=to_categorical(y_test)"
   ]
  },
  {
   "cell_type": "code",
   "execution_count": 22,
   "metadata": {},
   "outputs": [
    {
     "name": "stdout",
     "output_type": "stream",
     "text": [
      "(28709, 48, 48, 1) (28709, 7)\n",
      "(3589, 48, 48, 1) (3589, 7)\n"
     ]
    }
   ],
   "source": [
    "print(X_train.shape , y_train.shape)\n",
    "print(X_test.shape, y_test.shape)"
   ]
  },
  {
   "cell_type": "code",
   "execution_count": 23,
   "metadata": {},
   "outputs": [
    {
     "data": {
      "text/plain": [
       "{':1st_place_medal:': '🥇',\n",
       " ':2nd_place_medal:': '🥈',\n",
       " ':3rd_place_medal:': '🥉',\n",
       " ':AB_button_(blood_type):': '🆎',\n",
       " ':ATM_sign:': '🏧',\n",
       " ':A_button_(blood_type):': '🅰',\n",
       " ':A_button_(blood_type)_selector:': '🅰️',\n",
       " ':Afghanistan:': '🇦🇫',\n",
       " ':Aland_Islands:': '🇦🇽',\n",
       " ':Albania:': '🇦🇱',\n",
       " ':Algeria:': '🇩🇿',\n",
       " ':American_Samoa:': '🇦🇸',\n",
       " ':Andorra:': '🇦🇩',\n",
       " ':Angola:': '🇦🇴',\n",
       " ':Anguilla:': '🇦🇮',\n",
       " ':Antarctica:': '🇦🇶',\n",
       " ':Antigua_&_Barbuda:': '🇦🇬',\n",
       " ':Aquarius:': '♒',\n",
       " ':Argentina:': '🇦🇷',\n",
       " ':Aries:': '♈',\n",
       " ':Armenia:': '🇦🇲',\n",
       " ':Aruba:': '🇦🇼',\n",
       " ':Ascension_Island:': '🇦🇨',\n",
       " ':Australia:': '🇦🇺',\n",
       " ':Austria:': '🇦🇹',\n",
       " ':Azerbaijan:': '🇦🇿',\n",
       " ':BACK_arrow:': '🔙',\n",
       " ':B_button_(blood_type):': '🅱',\n",
       " ':B_button_(blood_type)_selector:': '🅱️',\n",
       " ':Bahamas:': '🇧🇸',\n",
       " ':Bahrain:': '🇧🇭',\n",
       " ':Bangladesh:': '🇧🇩',\n",
       " ':Barbados:': '🇧🇧',\n",
       " ':Belarus:': '🇧🇾',\n",
       " ':Belgium:': '🇧🇪',\n",
       " ':Belize:': '🇧🇿',\n",
       " ':Benin:': '🇧🇯',\n",
       " ':Bermuda:': '🇧🇲',\n",
       " ':Bhutan:': '🇧🇹',\n",
       " ':Bolivia:': '🇧🇴',\n",
       " ':Bosnia_&_Herzegovina:': '🇧🇦',\n",
       " ':Botswana:': '🇧🇼',\n",
       " ':Bouvet_Island:': '🇧🇻',\n",
       " ':Brazil:': '🇧🇷',\n",
       " ':British_Indian_Ocean_Territory:': '🇮🇴',\n",
       " ':British_Virgin_Islands:': '🇻🇬',\n",
       " ':Brunei:': '🇧🇳',\n",
       " ':Bulgaria:': '🇧🇬',\n",
       " ':Burkina_Faso:': '🇧🇫',\n",
       " ':Burundi:': '🇧🇮',\n",
       " ':CL_button:': '🆑',\n",
       " ':COOL_button:': '🆒',\n",
       " ':Cambodia:': '🇰🇭',\n",
       " ':Cameroon:': '🇨🇲',\n",
       " ':Canada:': '🇨🇦',\n",
       " ':Canary_Islands:': '🇮🇨',\n",
       " ':Cancer:': '♋',\n",
       " ':Cape_Verde:': '🇨🇻',\n",
       " ':Capricorn:': '♑',\n",
       " ':Caribbean_Netherlands:': '🇧🇶',\n",
       " ':Cayman_Islands:': '🇰🇾',\n",
       " ':Central_African_Republic:': '🇨🇫',\n",
       " ':Ceuta_&_Melilla:': '🇪🇦',\n",
       " ':Chad:': '🇹🇩',\n",
       " ':Chile:': '🇨🇱',\n",
       " ':China:': '🇨🇳',\n",
       " ':Christmas_Island:': '🇨🇽',\n",
       " ':Christmas_tree:': '🎄',\n",
       " ':Clipperton_Island:': '🇨🇵',\n",
       " ':Cocos_(Keeling)_Islands:': '🇨🇨',\n",
       " ':Colombia:': '🇨🇴',\n",
       " ':Comoros:': '🇰🇲',\n",
       " ':Congo_-_Brazzaville:': '🇨🇬',\n",
       " ':Congo_-_Kinshasa:': '🇨🇩',\n",
       " ':Cook_Islands:': '🇨🇰',\n",
       " ':Costa_Rica:': '🇨🇷',\n",
       " ':Croatia:': '🇭🇷',\n",
       " ':Cuba:': '🇨🇺',\n",
       " ':Curaçao:': '🇨🇼',\n",
       " ':Cyprus:': '🇨🇾',\n",
       " ':Czechia:': '🇨🇿',\n",
       " ':Côte_d’Ivoire:': '🇨🇮',\n",
       " ':Denmark:': '🇩🇰',\n",
       " ':Diego_Garcia:': '🇩🇬',\n",
       " ':Djibouti:': '🇩🇯',\n",
       " ':Dominica:': '🇩🇲',\n",
       " ':Dominican_Republic:': '🇩🇴',\n",
       " ':END_arrow:': '🔚',\n",
       " ':Ecuador:': '🇪🇨',\n",
       " ':Egypt:': '🇪🇬',\n",
       " ':El_Salvador:': '🇸🇻',\n",
       " ':England:': '🏴\\U000e0067\\U000e0062\\U000e0065\\U000e006e\\U000e0067\\U000e007f',\n",
       " ':Equatorial_Guinea:': '🇬🇶',\n",
       " ':Eritrea:': '🇪🇷',\n",
       " ':Estonia:': '🇪🇪',\n",
       " ':Ethiopia:': '🇪🇹',\n",
       " ':European_Union:': '🇪🇺',\n",
       " ':FREE_button:': '🆓',\n",
       " ':Falkland_Islands:': '🇫🇰',\n",
       " ':Faroe_Islands:': '🇫🇴',\n",
       " ':Fiji:': '🇫🇯',\n",
       " ':Finland:': '🇫🇮',\n",
       " ':France:': '🇫🇷',\n",
       " ':French_Guiana:': '🇬🇫',\n",
       " ':French_Polynesia:': '🇵🇫',\n",
       " ':French_Southern_Territories:': '🇹🇫',\n",
       " ':Gabon:': '🇬🇦',\n",
       " ':Gambia:': '🇬🇲',\n",
       " ':Gemini:': '♊',\n",
       " ':Georgia:': '🇬🇪',\n",
       " ':Germany:': '🇩🇪',\n",
       " ':Ghana:': '🇬🇭',\n",
       " ':Gibraltar:': '🇬🇮',\n",
       " ':Greece:': '🇬🇷',\n",
       " ':Greenland:': '🇬🇱',\n",
       " ':Grenada:': '🇬🇩',\n",
       " ':Guadeloupe:': '🇬🇵',\n",
       " ':Guam:': '🇬🇺',\n",
       " ':Guatemala:': '🇬🇹',\n",
       " ':Guernsey:': '🇬🇬',\n",
       " ':Guinea-Bissau:': '🇬🇼',\n",
       " ':Guinea:': '🇬🇳',\n",
       " ':Guyana:': '🇬🇾',\n",
       " ':Haiti:': '🇭🇹',\n",
       " ':Heard_&_McDonald_Islands:': '🇭🇲',\n",
       " ':Honduras:': '🇭🇳',\n",
       " ':Hong_Kong_SAR_China:': '🇭🇰',\n",
       " ':Hungary:': '🇭🇺',\n",
       " ':ID_button:': '🆔',\n",
       " ':Iceland:': '🇮🇸',\n",
       " ':India:': '🇮🇳',\n",
       " ':Indonesia:': '🇮🇩',\n",
       " ':Iran:': '🇮🇷',\n",
       " ':Iraq:': '🇮🇶',\n",
       " ':Ireland:': '🇮🇪',\n",
       " ':Isle_of_Man:': '🇮🇲',\n",
       " ':Israel:': '🇮🇱',\n",
       " ':Italy:': '🇮🇹',\n",
       " ':Jamaica:': '🇯🇲',\n",
       " ':Japan:': '🇯🇵',\n",
       " ':Japanese_acceptable_button:': '🉑',\n",
       " ':Japanese_application_button:': '🈸',\n",
       " ':Japanese_bargain_button:': '🉐',\n",
       " ':Japanese_castle:': '🏯',\n",
       " ':Japanese_congratulations_button:': '㊗',\n",
       " ':Japanese_discount_button:': '🈹',\n",
       " ':Japanese_dolls:': '🎎',\n",
       " ':Japanese_free_of_charge_button:': '🈚',\n",
       " ':Japanese_here_button:': '🈁',\n",
       " ':Japanese_monthly_amount_button:': '🈷',\n",
       " ':Japanese_no_vacancy_button:': '🈵',\n",
       " ':Japanese_not_free_of_charge_button:': '🈶',\n",
       " ':Japanese_open_for_business_button:': '🈺',\n",
       " ':Japanese_passing_grade_button:': '🈴',\n",
       " ':Japanese_post_office:': '🏣',\n",
       " ':Japanese_prohibited_button:': '🈲',\n",
       " ':Japanese_reserved_button:': '🈯',\n",
       " ':Japanese_secret_button:': '㊙',\n",
       " ':Japanese_service_charge_button:': '🈂',\n",
       " ':Japanese_symbol_for_beginner:': '🔰',\n",
       " ':Japanese_vacancy_button:': '🈳',\n",
       " ':Japanese_congratulations_button_selector:': '㊗️',\n",
       " ':Japanese_monthly_amount_button_selector:': '🈷️',\n",
       " ':Japanese_secret_button_selector:': '㊙️',\n",
       " ':Japanese_service_charge_button_selector:': '🈂️',\n",
       " ':Jersey:': '🇯🇪',\n",
       " ':Jordan:': '🇯🇴',\n",
       " ':Kazakhstan:': '🇰🇿',\n",
       " ':Kenya:': '🇰🇪',\n",
       " ':Kiribati:': '🇰🇮',\n",
       " ':Kosovo:': '🇽🇰',\n",
       " ':Kuwait:': '🇰🇼',\n",
       " ':Kyrgyzstan:': '🇰🇬',\n",
       " ':Laos:': '🇱🇦',\n",
       " ':Latvia:': '🇱🇻',\n",
       " ':Lebanon:': '🇱🇧',\n",
       " ':Leo:': '♌',\n",
       " ':Lesotho:': '🇱🇸',\n",
       " ':Liberia:': '🇱🇷',\n",
       " ':Libra:': '♎',\n",
       " ':Libya:': '🇱🇾',\n",
       " ':Liechtenstein:': '🇱🇮',\n",
       " ':Lithuania:': '🇱🇹',\n",
       " ':Luxembourg:': '🇱🇺',\n",
       " ':Macau_SAR_China:': '🇲🇴',\n",
       " ':Macedonia:': '🇲🇰',\n",
       " ':Madagascar:': '🇲🇬',\n",
       " ':Malawi:': '🇲🇼',\n",
       " ':Malaysia:': '🇲🇾',\n",
       " ':Maldives:': '🇲🇻',\n",
       " ':Mali:': '🇲🇱',\n",
       " ':Malta:': '🇲🇹',\n",
       " ':Marshall_Islands:': '🇲🇭',\n",
       " ':Martinique:': '🇲🇶',\n",
       " ':Mauritania:': '🇲🇷',\n",
       " ':Mauritius:': '🇲🇺',\n",
       " ':Mayotte:': '🇾🇹',\n",
       " ':Mexico:': '🇲🇽',\n",
       " ':Micronesia:': '🇫🇲',\n",
       " ':Moldova:': '🇲🇩',\n",
       " ':Monaco:': '🇲🇨',\n",
       " ':Mongolia:': '🇲🇳',\n",
       " ':Montenegro:': '🇲🇪',\n",
       " ':Montserrat:': '🇲🇸',\n",
       " ':Morocco:': '🇲🇦',\n",
       " ':Mozambique:': '🇲🇿',\n",
       " ':Mrs._Claus:': '🤶',\n",
       " ':Mrs._Claus_dark_skin_tone:': '🤶🏿',\n",
       " ':Mrs._Claus_light_skin_tone:': '🤶🏻',\n",
       " ':Mrs._Claus_medium-dark_skin_tone:': '🤶🏾',\n",
       " ':Mrs._Claus_medium-light_skin_tone:': '🤶🏼',\n",
       " ':Mrs._Claus_medium_skin_tone:': '🤶🏽',\n",
       " ':Myanmar_(Burma):': '🇲🇲',\n",
       " ':NEW_button:': '🆕',\n",
       " ':NG_button:': '🆖',\n",
       " ':Namibia:': '🇳🇦',\n",
       " ':Nauru:': '🇳🇷',\n",
       " ':Nepal:': '🇳🇵',\n",
       " ':Netherlands:': '🇳🇱',\n",
       " ':New_Caledonia:': '🇳🇨',\n",
       " ':New_Zealand:': '🇳🇿',\n",
       " ':Nicaragua:': '🇳🇮',\n",
       " ':Niger:': '🇳🇪',\n",
       " ':Nigeria:': '🇳🇬',\n",
       " ':Niue:': '🇳🇺',\n",
       " ':Norfolk_Island:': '🇳🇫',\n",
       " ':North_Korea:': '🇰🇵',\n",
       " ':Northern_Mariana_Islands:': '🇲🇵',\n",
       " ':Norway:': '🇳🇴',\n",
       " ':OK_button:': '🆗',\n",
       " ':OK_hand:': '👌',\n",
       " ':OK_hand_dark_skin_tone:': '👌🏿',\n",
       " ':OK_hand_light_skin_tone:': '👌🏻',\n",
       " ':OK_hand_medium-dark_skin_tone:': '👌🏾',\n",
       " ':OK_hand_medium-light_skin_tone:': '👌🏼',\n",
       " ':OK_hand_medium_skin_tone:': '👌🏽',\n",
       " ':ON!_arrow:': '🔛',\n",
       " ':O_button_(blood_type):': '🅾',\n",
       " ':O_button_(blood_type)_selector:': '🅾️',\n",
       " ':Oman:': '🇴🇲',\n",
       " ':Ophiuchus:': '⛎',\n",
       " ':P_button:': '🅿',\n",
       " ':P_button_selector:': '🅿️',\n",
       " ':Pakistan:': '🇵🇰',\n",
       " ':Palau:': '🇵🇼',\n",
       " ':Palestinian_Territories:': '🇵🇸',\n",
       " ':Panama:': '🇵🇦',\n",
       " ':Papua_New_Guinea:': '🇵🇬',\n",
       " ':Paraguay:': '🇵🇾',\n",
       " ':Peru:': '🇵🇪',\n",
       " ':Philippines:': '🇵🇭',\n",
       " ':Pisces:': '♓',\n",
       " ':Pitcairn_Islands:': '🇵🇳',\n",
       " ':Poland:': '🇵🇱',\n",
       " ':Portugal:': '🇵🇹',\n",
       " ':Puerto_Rico:': '🇵🇷',\n",
       " ':Qatar:': '🇶🇦',\n",
       " ':Romania:': '🇷🇴',\n",
       " ':Russia:': '🇷🇺',\n",
       " ':Rwanda:': '🇷🇼',\n",
       " ':Réunion:': '🇷🇪',\n",
       " ':SOON_arrow:': '🔜',\n",
       " ':SOS_button:': '🆘',\n",
       " ':Sagittarius:': '♐',\n",
       " ':Samoa:': '🇼🇸',\n",
       " ':San_Marino:': '🇸🇲',\n",
       " ':Santa_Claus:': '🎅',\n",
       " ':Santa_Claus_dark_skin_tone:': '🎅🏿',\n",
       " ':Santa_Claus_light_skin_tone:': '🎅🏻',\n",
       " ':Santa_Claus_medium-dark_skin_tone:': '🎅🏾',\n",
       " ':Santa_Claus_medium-light_skin_tone:': '🎅🏼',\n",
       " ':Santa_Claus_medium_skin_tone:': '🎅🏽',\n",
       " ':Saudi_Arabia:': '🇸🇦',\n",
       " ':Scorpio:': '♏',\n",
       " ':Scotland:': '🏴\\U000e0067\\U000e0062\\U000e0073\\U000e0063\\U000e0074\\U000e007f',\n",
       " ':Senegal:': '🇸🇳',\n",
       " ':Serbia:': '🇷🇸',\n",
       " ':Seychelles:': '🇸🇨',\n",
       " ':Sierra_Leone:': '🇸🇱',\n",
       " ':Singapore:': '🇸🇬',\n",
       " ':Sint_Maarten:': '🇸🇽',\n",
       " ':Slovakia:': '🇸🇰',\n",
       " ':Slovenia:': '🇸🇮',\n",
       " ':Solomon_Islands:': '🇸🇧',\n",
       " ':Somalia:': '🇸🇴',\n",
       " ':South_Africa:': '🇿🇦',\n",
       " ':South_Georgia_&_South_Sandwich_Islands:': '🇬🇸',\n",
       " ':South_Korea:': '🇰🇷',\n",
       " ':South_Sudan:': '🇸🇸',\n",
       " ':Spain:': '🇪🇸',\n",
       " ':Sri_Lanka:': '🇱🇰',\n",
       " ':St._Barthélemy:': '🇧🇱',\n",
       " ':St._Helena:': '🇸🇭',\n",
       " ':St._Kitts_&_Nevis:': '🇰🇳',\n",
       " ':St._Lucia:': '🇱🇨',\n",
       " ':St._Martin:': '🇲🇫',\n",
       " ':St._Pierre_&_Miquelon:': '🇵🇲',\n",
       " ':St._Vincent_&_Grenadines:': '🇻🇨',\n",
       " ':Statue_of_Liberty:': '🗽',\n",
       " ':Sudan:': '🇸🇩',\n",
       " ':Suriname:': '🇸🇷',\n",
       " ':Svalbard_&_Jan_Mayen:': '🇸🇯',\n",
       " ':Swaziland:': '🇸🇿',\n",
       " ':Sweden:': '🇸🇪',\n",
       " ':Switzerland:': '🇨🇭',\n",
       " ':Syria:': '🇸🇾',\n",
       " ':São_Tomé_&_Príncipe:': '🇸🇹',\n",
       " ':T-Rex:': '🦖',\n",
       " ':TOP_arrow:': '🔝',\n",
       " ':Taiwan:': '🇹🇼',\n",
       " ':Tajikistan:': '🇹🇯',\n",
       " ':Tanzania:': '🇹🇿',\n",
       " ':Taurus:': '♉',\n",
       " ':Thailand:': '🇹🇭',\n",
       " ':Timor-Leste:': '🇹🇱',\n",
       " ':Togo:': '🇹🇬',\n",
       " ':Tokelau:': '🇹🇰',\n",
       " ':Tokyo_tower:': '🗼',\n",
       " ':Tonga:': '🇹🇴',\n",
       " ':Trinidad_&_Tobago:': '🇹🇹',\n",
       " ':Tristan_da_Cunha:': '🇹🇦',\n",
       " ':Tunisia:': '🇹🇳',\n",
       " ':Turkey:': '🇹🇷',\n",
       " ':Turkmenistan:': '🇹🇲',\n",
       " ':Turks_&_Caicos_Islands:': '🇹🇨',\n",
       " ':Tuvalu:': '🇹🇻',\n",
       " ':U.S._Outlying_Islands:': '🇺🇲',\n",
       " ':U.S._Virgin_Islands:': '🇻🇮',\n",
       " ':UP!_button:': '🆙',\n",
       " ':Uganda:': '🇺🇬',\n",
       " ':Ukraine:': '🇺🇦',\n",
       " ':United_Arab_Emirates:': '🇦🇪',\n",
       " ':United_Kingdom:': '🇬🇧',\n",
       " ':United_Nations:': '🇺🇳',\n",
       " ':United_States:': '🇺🇸',\n",
       " ':Uruguay:': '🇺🇾',\n",
       " ':Uzbekistan:': '🇺🇿',\n",
       " ':VS_button:': '🆚',\n",
       " ':Vanuatu:': '🇻🇺',\n",
       " ':Vatican_City:': '🇻🇦',\n",
       " ':Venezuela:': '🇻🇪',\n",
       " ':Vietnam:': '🇻🇳',\n",
       " ':Virgo:': '♍',\n",
       " ':Wales:': '🏴\\U000e0067\\U000e0062\\U000e0077\\U000e006c\\U000e0073\\U000e007f',\n",
       " ':Wallis_&_Futuna:': '🇼🇫',\n",
       " ':Western_Sahara:': '🇪🇭',\n",
       " ':Yemen:': '🇾🇪',\n",
       " ':Zambia:': '🇿🇲',\n",
       " ':Zimbabwe:': '🇿🇼',\n",
       " ':abacus:': '🧮',\n",
       " ':adhesive_bandage:': '\\U0001fa79',\n",
       " ':admission_tickets:': '🎟',\n",
       " ':admission_tickets_selector:': '🎟️',\n",
       " ':adult:': '🧑',\n",
       " ':adult_dark_skin_tone:': '🧑🏿',\n",
       " ':adult_light_skin_tone:': '🧑🏻',\n",
       " ':adult_medium-dark_skin_tone:': '🧑🏾',\n",
       " ':adult_medium-light_skin_tone:': '🧑🏼',\n",
       " ':adult_medium_skin_tone:': '🧑🏽',\n",
       " ':aerial_tramway:': '🚡',\n",
       " ':airplane:': '✈',\n",
       " ':airplane_arrival:': '🛬',\n",
       " ':airplane_departure:': '🛫',\n",
       " ':airplane_selector:': '✈️',\n",
       " ':alarm_clock:': '⏰',\n",
       " ':alembic:': '⚗',\n",
       " ':alembic_selector:': '⚗️',\n",
       " ':alien:': '👽',\n",
       " ':alien_monster:': '👾',\n",
       " ':ambulance:': '🚑',\n",
       " ':american_football:': '🏈',\n",
       " ':amphora:': '🏺',\n",
       " ':anchor:': '⚓',\n",
       " ':anger_symbol:': '💢',\n",
       " ':angry_face:': '😠',\n",
       " ':angry_face_with_horns:': '👿',\n",
       " ':anguished_face:': '😧',\n",
       " ':ant:': '🐜',\n",
       " ':antenna_bars:': '📶',\n",
       " ':anxious_face_with_sweat:': '😰',\n",
       " ':articulated_lorry:': '🚛',\n",
       " ':artist_palette:': '🎨',\n",
       " ':astonished_face:': '😲',\n",
       " ':atom_symbol:': '⚛',\n",
       " ':atom_symbol_selector:': '⚛️',\n",
       " ':auto_rickshaw:': '\\U0001f6fa',\n",
       " ':automobile:': '🚗',\n",
       " ':avocado:': '🥑',\n",
       " ':axe:': '\\U0001fa93',\n",
       " ':baby:': '👶',\n",
       " ':baby_angel:': '👼',\n",
       " ':baby_angel_dark_skin_tone:': '👼🏿',\n",
       " ':baby_angel_light_skin_tone:': '👼🏻',\n",
       " ':baby_angel_medium-dark_skin_tone:': '👼🏾',\n",
       " ':baby_angel_medium-light_skin_tone:': '👼🏼',\n",
       " ':baby_angel_medium_skin_tone:': '👼🏽',\n",
       " ':baby_bottle:': '🍼',\n",
       " ':baby_chick:': '🐤',\n",
       " ':baby_dark_skin_tone:': '👶🏿',\n",
       " ':baby_light_skin_tone:': '👶🏻',\n",
       " ':baby_medium-dark_skin_tone:': '👶🏾',\n",
       " ':baby_medium-light_skin_tone:': '👶🏼',\n",
       " ':baby_medium_skin_tone:': '👶🏽',\n",
       " ':baby_symbol:': '🚼',\n",
       " ':backhand_index_pointing_down:': '👇',\n",
       " ':backhand_index_pointing_down_dark_skin_tone:': '👇🏿',\n",
       " ':backhand_index_pointing_down_light_skin_tone:': '👇🏻',\n",
       " ':backhand_index_pointing_down_medium-dark_skin_tone:': '👇🏾',\n",
       " ':backhand_index_pointing_down_medium-light_skin_tone:': '👇🏼',\n",
       " ':backhand_index_pointing_down_medium_skin_tone:': '👇🏽',\n",
       " ':backhand_index_pointing_left:': '👈',\n",
       " ':backhand_index_pointing_left_dark_skin_tone:': '👈🏿',\n",
       " ':backhand_index_pointing_left_light_skin_tone:': '👈🏻',\n",
       " ':backhand_index_pointing_left_medium-dark_skin_tone:': '👈🏾',\n",
       " ':backhand_index_pointing_left_medium-light_skin_tone:': '👈🏼',\n",
       " ':backhand_index_pointing_left_medium_skin_tone:': '👈🏽',\n",
       " ':backhand_index_pointing_right:': '👉',\n",
       " ':backhand_index_pointing_right_dark_skin_tone:': '👉🏿',\n",
       " ':backhand_index_pointing_right_light_skin_tone:': '👉🏻',\n",
       " ':backhand_index_pointing_right_medium-dark_skin_tone:': '👉🏾',\n",
       " ':backhand_index_pointing_right_medium-light_skin_tone:': '👉🏼',\n",
       " ':backhand_index_pointing_right_medium_skin_tone:': '👉🏽',\n",
       " ':backhand_index_pointing_up:': '👆',\n",
       " ':backhand_index_pointing_up_dark_skin_tone:': '👆🏿',\n",
       " ':backhand_index_pointing_up_light_skin_tone:': '👆🏻',\n",
       " ':backhand_index_pointing_up_medium-dark_skin_tone:': '👆🏾',\n",
       " ':backhand_index_pointing_up_medium-light_skin_tone:': '👆🏼',\n",
       " ':backhand_index_pointing_up_medium_skin_tone:': '👆🏽',\n",
       " ':bacon:': '🥓',\n",
       " ':badger:': '🦡',\n",
       " ':badminton:': '🏸',\n",
       " ':bagel:': '🥯',\n",
       " ':baggage_claim:': '🛄',\n",
       " ':baguette_bread:': '🥖',\n",
       " ':balance_scale:': '⚖',\n",
       " ':balance_scale_selector:': '⚖️',\n",
       " ':bald:': '🦲',\n",
       " ':bald_man:': '👨\\u200d🦲',\n",
       " ':bald_woman:': '👩\\u200d🦲',\n",
       " ':ballet_shoes:': '\\U0001fa70',\n",
       " ':balloon:': '🎈',\n",
       " ':ballot_box_with_ballot:': '🗳',\n",
       " ':ballot_box_with_ballot_selector:': '🗳️',\n",
       " ':ballot_box_with_check:': '☑',\n",
       " ':banana:': '🍌',\n",
       " ':banjo:': '\\U0001fa95',\n",
       " ':bank:': '🏦',\n",
       " ':bar_chart:': '📊',\n",
       " ':barber_pole:': '💈',\n",
       " ':baseball:': '⚾',\n",
       " ':basket:': '🧺',\n",
       " ':basketball:': '🏀',\n",
       " ':bat:': '🦇',\n",
       " ':bathtub:': '🛁',\n",
       " ':battery:': '🔋',\n",
       " ':beach_with_umbrella:': '🏖',\n",
       " ':beach_with_umbrella_selector:': '🏖️',\n",
       " ':beaming_face_with_smiling_eyes:': '😁',\n",
       " ':bear_face:': '🐻',\n",
       " ':bearded_person:': '🧔',\n",
       " ':bearded_person_dark_skin_tone:': '🧔🏿',\n",
       " ':bearded_person_light_skin_tone:': '🧔🏻',\n",
       " ':bearded_person_medium-dark_skin_tone:': '🧔🏾',\n",
       " ':bearded_person_medium-light_skin_tone:': '🧔🏼',\n",
       " ':bearded_person_medium_skin_tone:': '🧔🏽',\n",
       " ':beating_heart:': '💓',\n",
       " ':bed:': '🛏',\n",
       " ':bed_selector:': '🛏️',\n",
       " ':beer_mug:': '🍺',\n",
       " ':bell:': '🔔',\n",
       " ':bell_with_slash:': '🔕',\n",
       " ':bellhop_bell:': '🛎',\n",
       " ':bellhop_bell_selector:': '🛎️',\n",
       " ':bento_box:': '🍱',\n",
       " ':beverage_box:': '\\U0001f9c3',\n",
       " ':bicycle:': '🚲',\n",
       " ':bikini:': '👙',\n",
       " ':billed_cap:': '🧢',\n",
       " ':biohazard:': '☣',\n",
       " ':biohazard_selector:': '☣️',\n",
       " ':bird:': '🐦',\n",
       " ':birthday_cake:': '🎂',\n",
       " ':black_circle:': '⚫',\n",
       " ':black_flag:': '🏴',\n",
       " ':black_heart:': '🖤',\n",
       " ':black_large_square:': '⬛',\n",
       " ':black_medium-small_square:': '◾',\n",
       " ':black_medium_square:': '◼',\n",
       " ':black_medium_square_selector:': '◼️',\n",
       " ':black_nib:': '✒',\n",
       " ':black_nib_selector:': '✒️',\n",
       " ':black_small_square:': '▪',\n",
       " ':black_small_square_selector:': '▪️',\n",
       " ':black_square_button:': '🔲',\n",
       " ':blond-haired_man:': '👱\\u200d♂️',\n",
       " ':blond-haired_man_dark_skin_tone:': '👱🏿\\u200d♂️',\n",
       " ':blond-haired_man_light_skin_tone:': '👱🏻\\u200d♂️',\n",
       " ':blond-haired_man_medium-dark_skin_tone:': '👱🏾\\u200d♂️',\n",
       " ':blond-haired_man_medium-light_skin_tone:': '👱🏼\\u200d♂️',\n",
       " ':blond-haired_man_medium_skin_tone:': '👱🏽\\u200d♂️',\n",
       " ':blond-haired_person:': '👱',\n",
       " ':blond-haired_person_dark_skin_tone:': '👱🏿',\n",
       " ':blond-haired_person_light_skin_tone:': '👱🏻',\n",
       " ':blond-haired_person_medium-dark_skin_tone:': '👱🏾',\n",
       " ':blond-haired_person_medium-light_skin_tone:': '👱🏼',\n",
       " ':blond-haired_person_medium_skin_tone:': '👱🏽',\n",
       " ':blond-haired_woman:': '👱\\u200d♀️',\n",
       " ':blond-haired_woman_dark_skin_tone:': '👱🏿\\u200d♀️',\n",
       " ':blond-haired_woman_light_skin_tone:': '👱🏻\\u200d♀️',\n",
       " ':blond-haired_woman_medium-dark_skin_tone:': '👱🏾\\u200d♀️',\n",
       " ':blond-haired_woman_medium-light_skin_tone:': '👱🏼\\u200d♀️',\n",
       " ':blond-haired_woman_medium_skin_tone:': '👱🏽\\u200d♀️',\n",
       " ':blossom:': '🌼',\n",
       " ':blowfish:': '🐡',\n",
       " ':blue_book:': '📘',\n",
       " ':blue_circle:': '🔵',\n",
       " ':blue_heart:': '💙',\n",
       " ':blue_square:': '\\U0001f7e6',\n",
       " ':boar:': '🐗',\n",
       " ':bomb:': '💣',\n",
       " ':bone:': '🦴',\n",
       " ':bookmark:': '🔖',\n",
       " ':bookmark_tabs:': '📑',\n",
       " ':books:': '📚',\n",
       " ':bottle_with_popping_cork:': '🍾',\n",
       " ':bouquet:': '💐',\n",
       " ':bow_and_arrow:': '🏹',\n",
       " ':bowl_with_spoon:': '🥣',\n",
       " ':bowling:': '🎳',\n",
       " ':boxing_glove:': '🥊',\n",
       " ':boy:': '👦',\n",
       " ':boy_dark_skin_tone:': '👦🏿',\n",
       " ':boy_light_skin_tone:': '👦🏻',\n",
       " ':boy_medium-dark_skin_tone:': '👦🏾',\n",
       " ':boy_medium-light_skin_tone:': '👦🏼',\n",
       " ':boy_medium_skin_tone:': '👦🏽',\n",
       " ':brain:': '🧠',\n",
       " ':bread:': '🍞',\n",
       " ':breast-feeding:': '🤱',\n",
       " ':breast-feeding_dark_skin_tone:': '🤱🏿',\n",
       " ':breast-feeding_light_skin_tone:': '🤱🏻',\n",
       " ':breast-feeding_medium-dark_skin_tone:': '🤱🏾',\n",
       " ':breast-feeding_medium-light_skin_tone:': '🤱🏼',\n",
       " ':breast-feeding_medium_skin_tone:': '🤱🏽',\n",
       " ':brick:': '🧱',\n",
       " ':bride_with_veil:': '👰',\n",
       " ':bride_with_veil_dark_skin_tone:': '👰🏿',\n",
       " ':bride_with_veil_light_skin_tone:': '👰🏻',\n",
       " ':bride_with_veil_medium-dark_skin_tone:': '👰🏾',\n",
       " ':bride_with_veil_medium-light_skin_tone:': '👰🏼',\n",
       " ':bride_with_veil_medium_skin_tone:': '👰🏽',\n",
       " ':bridge_at_night:': '🌉',\n",
       " ':briefcase:': '💼',\n",
       " ':briefs:': '\\U0001fa72',\n",
       " ':bright_button:': '🔆',\n",
       " ':broccoli:': '🥦',\n",
       " ':broken_heart:': '💔',\n",
       " ':broom:': '🧹',\n",
       " ':brown_circle:': '\\U0001f7e4',\n",
       " ':brown_heart:': '\\U0001f90e',\n",
       " ':brown_square:': '\\U0001f7eb',\n",
       " ':bug:': '🐛',\n",
       " ':building_construction:': '🏗',\n",
       " ':building_construction_selector:': '🏗️',\n",
       " ':bullet_train:': '🚅',\n",
       " ':burrito:': '🌯',\n",
       " ':bus:': '🚌',\n",
       " ':bus_stop:': '🚏',\n",
       " ':bust_in_silhouette:': '👤',\n",
       " ':busts_in_silhouette:': '👥',\n",
       " ':butter:': '\\U0001f9c8',\n",
       " ':butterfly:': '🦋',\n",
       " ':cactus:': '🌵',\n",
       " ':calendar:': '📆',\n",
       " ':call_me_hand:': '🤙',\n",
       " ':call_me_hand_dark_skin_tone:': '🤙🏿',\n",
       " ':call_me_hand_light_skin_tone:': '🤙🏻',\n",
       " ':call_me_hand_medium-dark_skin_tone:': '🤙🏾',\n",
       " ':call_me_hand_medium-light_skin_tone:': '🤙🏼',\n",
       " ':call_me_hand_medium_skin_tone:': '🤙🏽',\n",
       " ':camel:': '🐫',\n",
       " ':camera:': '📷',\n",
       " ':camera_with_flash:': '📸',\n",
       " ':camping:': '🏕',\n",
       " ':camping_selector:': '🏕️',\n",
       " ':candle:': '🕯',\n",
       " ':candle_selector:': '🕯️',\n",
       " ':candy:': '🍬',\n",
       " ':canned_food:': '🥫',\n",
       " ':canoe:': '🛶',\n",
       " ':card_file_box:': '🗃',\n",
       " ':card_file_box_selector:': '🗃️',\n",
       " ':card_index:': '📇',\n",
       " ':card_index_dividers:': '🗂',\n",
       " ':card_index_dividers_selector:': '🗂️',\n",
       " ':carousel_horse:': '🎠',\n",
       " ':carp_streamer:': '🎏',\n",
       " ':carrot:': '🥕',\n",
       " ':castle:': '🏰',\n",
       " ':cat:': '🐱',\n",
       " ':cat_face:': '🐱',\n",
       " ':cat_face_with_tears_of_joy:': '😹',\n",
       " ':cat_face_with_wry_smile:': '😼',\n",
       " ':chains:': '⛓',\n",
       " ':chains_selector:': '⛓️',\n",
       " ':chair:': '\\U0001fa91',\n",
       " ':chart_decreasing:': '📉',\n",
       " ':chart_increasing:': '📈',\n",
       " ':chart_increasing_with_yen:': '💹',\n",
       " ':check_box_with_check:': '☑️',\n",
       " ':check_mark:': '✔️',\n",
       " ':cheese_wedge:': '🧀',\n",
       " ':chequered_flag:': '🏁',\n",
       " ':cherries:': '🍒',\n",
       " ':cherry_blossom:': '🌸',\n",
       " ':chess_pawn:': '♟',\n",
       " ':chess_pawn_selector:': '♟️',\n",
       " ':chestnut:': '🌰',\n",
       " ':chicken:': '🐔',\n",
       " ':child:': '🧒',\n",
       " ':child_dark_skin_tone:': '🧒🏿',\n",
       " ':child_light_skin_tone:': '🧒🏻',\n",
       " ':child_medium-dark_skin_tone:': '🧒🏾',\n",
       " ':child_medium-light_skin_tone:': '🧒🏼',\n",
       " ':child_medium_skin_tone:': '🧒🏽',\n",
       " ':children_crossing:': '🚸',\n",
       " ':chipmunk:': '🐿',\n",
       " ':chipmunk_selector:': '🐿️',\n",
       " ':chocolate_bar:': '🍫',\n",
       " ':chopsticks:': '🥢',\n",
       " ':church:': '⛪',\n",
       " ':cigarette:': '🚬',\n",
       " ':cinema:': '🎦',\n",
       " ':circled_M:': 'Ⓜ',\n",
       " ':circled_M_selector:': 'Ⓜ️',\n",
       " ':circus_tent:': '🎪',\n",
       " ':cityscape:': '🏙',\n",
       " ':cityscape_at_dusk:': '🌆',\n",
       " ':cityscape_selector:': '🏙️',\n",
       " ':clamp:': '🗜',\n",
       " ':clamp_selector:': '🗜️',\n",
       " ':clapper_board:': '🎬',\n",
       " ':clapping_hands:': '👏',\n",
       " ':clapping_hands_dark_skin_tone:': '👏🏿',\n",
       " ':clapping_hands_light_skin_tone:': '👏🏻',\n",
       " ':clapping_hands_medium-dark_skin_tone:': '👏🏾',\n",
       " ':clapping_hands_medium-light_skin_tone:': '👏🏼',\n",
       " ':clapping_hands_medium_skin_tone:': '👏🏽',\n",
       " ':classical_building:': '🏛',\n",
       " ':classical_building_selector:': '🏛️',\n",
       " ':clinking_beer_mugs:': '🍻',\n",
       " ':clinking_glasses:': '🥂',\n",
       " ':clipboard:': '📋',\n",
       " ':clockwise_vertical_arrows:': '🔃',\n",
       " ':closed_book:': '📕',\n",
       " ':closed_mailbox_with_lowered_flag:': '📪',\n",
       " ':closed_mailbox_with_raised_flag:': '📫',\n",
       " ':closed_umbrella:': '🌂',\n",
       " ':cloud:': '☁',\n",
       " ':cloud_selector:': '☁️',\n",
       " ':cloud_with_lightning:': '🌩',\n",
       " ':cloud_with_lightning_and_rain:': '⛈',\n",
       " ':cloud_with_lightning_and_rain_selector:': '⛈️',\n",
       " ':cloud_with_lightning_selector:': '🌩️',\n",
       " ':cloud_with_rain:': '🌧',\n",
       " ':cloud_with_rain_selector:': '🌧️',\n",
       " ':cloud_with_snow:': '🌨',\n",
       " ':cloud_with_snow_selector:': '🌨️',\n",
       " ':clown_face:': '🤡',\n",
       " ':club_suit:': '♣',\n",
       " ':club_suit_selector:': '♣️',\n",
       " ':clutch_bag:': '👝',\n",
       " ':coat:': '🧥',\n",
       " ':cocktail_glass:': '🍸',\n",
       " ':coconut:': '🥥',\n",
       " ':coffin:': '⚰',\n",
       " ':coffin_selector:': '⚰️',\n",
       " ':cold_face:': '🥶',\n",
       " ':collision:': '💥',\n",
       " ':comet:': '☄',\n",
       " ':comet_selector:': '☄️',\n",
       " ':compass:': '🧭',\n",
       " ':computer_disk:': '💽',\n",
       " ':computer_mouse:': '🖱',\n",
       " ':computer_mouse_selector:': '🖱️',\n",
       " ':confetti_ball:': '🎊',\n",
       " ':confounded_face:': '😖',\n",
       " ':confused_face:': '😕',\n",
       " ':construction:': '🚧',\n",
       " ':construction_worker:': '👷',\n",
       " ':construction_worker_dark_skin_tone:': '👷🏿',\n",
       " ':construction_worker_light_skin_tone:': '👷🏻',\n",
       " ':construction_worker_medium-dark_skin_tone:': '👷🏾',\n",
       " ':construction_worker_medium-light_skin_tone:': '👷🏼',\n",
       " ':construction_worker_medium_skin_tone:': '👷🏽',\n",
       " ':control_knobs:': '🎛',\n",
       " ':control_knobs_selector:': '🎛️',\n",
       " ':convenience_store:': '🏪',\n",
       " ':cooked_rice:': '🍚',\n",
       " ':cookie:': '🍪',\n",
       " ':cooking:': '🍳',\n",
       " ':copyright:': '©',\n",
       " ':copyright_selector:': '©️',\n",
       " ':couch_and_lamp:': '🛋',\n",
       " ':couch_and_lamp_selector:': '🛋️',\n",
       " ':counterclockwise_arrows_button:': '🔄',\n",
       " ':couple_with_heart-man-man:': '👨\\u200d❤\\u200d👨',\n",
       " ':couple_with_heart-woman-man:': '👩\\u200d❤\\u200d👨',\n",
       " ':couple_with_heart-woman-woman:': '👩\\u200d❤\\u200d👩',\n",
       " ':couple_with_heart:': '💑',\n",
       " ':couple_with_heart_man_man:': '👨\\u200d❤️\\u200d👨',\n",
       " ':couple_with_heart_woman_man:': '👩\\u200d❤️\\u200d👨',\n",
       " ':couple_with_heart_woman_woman:': '👩\\u200d❤️\\u200d👩',\n",
       " ':cow:': '🐮',\n",
       " ':cow_face:': '🐮',\n",
       " ':cowboy_hat_face:': '🤠',\n",
       " ':crab:': '🦀',\n",
       " ':crayon:': '🖍',\n",
       " ':crayon_selector:': '🖍️',\n",
       " ':credit_card:': '💳',\n",
       " ':crescent_moon:': '🌙',\n",
       " ':cricket:': '🦗',\n",
       " ':cricket_game:': '🏏',\n",
       " ':crocodile:': '🐊',\n",
       " ':croissant:': '🥐',\n",
       " ':cross_mark:': '❌',\n",
       " ':cross_mark_button:': '❎',\n",
       " ':crossed_fingers:': '🤞',\n",
       " ':crossed_fingers_dark_skin_tone:': '🤞🏿',\n",
       " ':crossed_fingers_light_skin_tone:': '🤞🏻',\n",
       " ':crossed_fingers_medium-dark_skin_tone:': '🤞🏾',\n",
       " ':crossed_fingers_medium-light_skin_tone:': '🤞🏼',\n",
       " ':crossed_fingers_medium_skin_tone:': '🤞🏽',\n",
       " ':crossed_flags:': '🎌',\n",
       " ':crossed_swords:': '⚔',\n",
       " ':crossed_swords_selector:': '⚔️',\n",
       " ':crown:': '👑',\n",
       " ':crying_cat_face:': '😿',\n",
       " ':crying_face:': '😢',\n",
       " ':crystal_ball:': '🔮',\n",
       " ':cucumber:': '🥒',\n",
       " ':cup_with_straw:': '🥤',\n",
       " ':cupcake:': '🧁',\n",
       " ':curling_stone:': '🥌',\n",
       " ':curly-haired_man:': '👨\\u200d🦱',\n",
       " ':curly-haired_woman:': '👩\\u200d🦱',\n",
       " ':curly_hair:': '🦱',\n",
       " ':curly_loop:': '➰',\n",
       " ':currency_exchange:': '💱',\n",
       " ':curry_rice:': '🍛',\n",
       " ':custard:': '🍮',\n",
       " ':customs:': '🛃',\n",
       " ':cut_of_meat:': '🥩',\n",
       " ':cyclone:': '🌀',\n",
       " ':dagger:': '🗡',\n",
       " ':dagger_selector:': '🗡️',\n",
       " ':dango:': '🍡',\n",
       " ':dark_skin_tone:': '🏿',\n",
       " ':dashing_away:': '💨',\n",
       " ':deaf_man-dark_skin_tone:': '\\U0001f9cf🏿\\u200d♂',\n",
       " ':deaf_man-dark_skin_tone_selector:': '\\U0001f9cf🏿\\u200d♂️',\n",
       " ':deaf_man-light_skin_tone:': '\\U0001f9cf🏻\\u200d♂',\n",
       " ':deaf_man-light_skin_tone_selector:': '\\U0001f9cf🏻\\u200d♂️',\n",
       " ':deaf_man-medium-dark_skin_tone:': '\\U0001f9cf🏾\\u200d♂',\n",
       " ':deaf_man-medium-dark_skin_tone_selector:': '\\U0001f9cf🏾\\u200d♂️',\n",
       " ':deaf_man-medium-light_skin_tone:': '\\U0001f9cf🏼\\u200d♂',\n",
       " ':deaf_man-medium-light_skin_tone_selector:': '\\U0001f9cf🏼\\u200d♂️',\n",
       " ':deaf_man-medium_skin_tone:': '\\U0001f9cf🏽\\u200d♂',\n",
       " ':deaf_man-medium_skin_tone_selector:': '\\U0001f9cf🏽\\u200d♂️',\n",
       " ':deaf_man:': '\\U0001f9cf\\u200d♂',\n",
       " ':deaf_man_selector:': '\\U0001f9cf\\u200d♂️',\n",
       " ':deaf_person-dark_skin_tone:': '\\U0001f9cf🏿',\n",
       " ':deaf_person-light_skin_tone:': '\\U0001f9cf🏻',\n",
       " ':deaf_person-medium-dark_skin_tone:': '\\U0001f9cf🏾',\n",
       " ':deaf_person-medium-light_skin_tone:': '\\U0001f9cf🏼',\n",
       " ':deaf_person-medium_skin_tone:': '\\U0001f9cf🏽',\n",
       " ':deaf_person:': '\\U0001f9cf',\n",
       " ':deaf_woman-dark_skin_tone:': '\\U0001f9cf🏿\\u200d♀',\n",
       " ':deaf_woman-dark_skin_tone_selector:': '\\U0001f9cf🏿\\u200d♀️',\n",
       " ':deaf_woman-light_skin_tone:': '\\U0001f9cf🏻\\u200d♀',\n",
       " ':deaf_woman-light_skin_tone_selector:': '\\U0001f9cf🏻\\u200d♀️',\n",
       " ':deaf_woman-medium-dark_skin_tone:': '\\U0001f9cf🏾\\u200d♀',\n",
       " ':deaf_woman-medium-dark_skin_tone_selector:': '\\U0001f9cf🏾\\u200d♀️',\n",
       " ':deaf_woman-medium-light_skin_tone:': '\\U0001f9cf🏼\\u200d♀',\n",
       " ':deaf_woman-medium-light_skin_tone_selector:': '\\U0001f9cf🏼\\u200d♀️',\n",
       " ':deaf_woman-medium_skin_tone:': '\\U0001f9cf🏽\\u200d♀',\n",
       " ':deaf_woman-medium_skin_tone_selector:': '\\U0001f9cf🏽\\u200d♀️',\n",
       " ':deaf_woman:': '\\U0001f9cf\\u200d♀',\n",
       " ':deaf_woman_selector:': '\\U0001f9cf\\u200d♀️',\n",
       " ':deciduous_tree:': '🌳',\n",
       " ':deer:': '🦌',\n",
       " ':delivery_truck:': '🚚',\n",
       " ':department_store:': '🏬',\n",
       " ':derelict_house:': '🏚',\n",
       " ':derelict_house_selector:': '🏚️',\n",
       " ':desert:': '🏜',\n",
       " ':desert_island:': '🏝',\n",
       " ':desert_island_selector:': '🏝️',\n",
       " ':desert_selector:': '🏜️',\n",
       " ':desktop_computer:': '🖥',\n",
       " ':desktop_computer_selector:': '🖥️',\n",
       " ':detective:': '🕵',\n",
       " ':detective_dark_skin_tone:': '🕵🏿',\n",
       " ':detective_light_skin_tone:': '🕵🏻',\n",
       " ':detective_medium-dark_skin_tone:': '🕵🏾',\n",
       " ':detective_medium-light_skin_tone:': '🕵🏼',\n",
       " ':detective_medium_skin_tone:': '🕵🏽',\n",
       " ':detective_selector:': '🕵️',\n",
       " ':diamond_suit:': '♦',\n",
       " ':diamond_suit_selector:': '♦️',\n",
       " ':diamond_with_a_dot:': '💠',\n",
       " ':dim_button:': '🔅',\n",
       " ':direct_hit:': '🎯',\n",
       " ':disappointed_face:': '😞',\n",
       " ':diving_mask:': '\\U0001f93f',\n",
       " ':diya_lamp:': '\\U0001fa94',\n",
       " ':dizzy:': '💫',\n",
       " ':dizzy_face:': '😵',\n",
       " ':dna:': '🧬',\n",
       " ':dog:': '🐶',\n",
       " ':dog_face:': '🐶',\n",
       " ':dollar_banknote:': '💵',\n",
       " ':dolphin:': '🐬',\n",
       " ':door:': '🚪',\n",
       " ':dotted_six-pointed_star:': '🔯',\n",
       " ':double_curly_loop:': '➿',\n",
       " ':double_exclamation_mark:': '‼',\n",
       " ':double_exclamation_mark_selector:': '‼️',\n",
       " ':doughnut:': '🍩',\n",
       " ':dove:': '🕊',\n",
       " ':dove_selector:': '🕊️',\n",
       " ':down-left_arrow:': '↙',\n",
       " ':down-left_arrow_selector:': '↙️',\n",
       " ':down-right_arrow:': '↘',\n",
       " ':down-right_arrow_selector:': '↘️',\n",
       " ':down_arrow:': '⬇',\n",
       " ':down_arrow_selector:': '⬇️',\n",
       " ':downcast_face_with_sweat:': '😓',\n",
       " ':downwards_button:': '🔽',\n",
       " ':dragon:': '🐉',\n",
       " ':dragon_face:': '🐲',\n",
       " ':dress:': '👗',\n",
       " ':drooling_face:': '🤤',\n",
       " ':drop_of_blood:': '\\U0001fa78',\n",
       " ':droplet:': '💧',\n",
       " ':drum:': '🥁',\n",
       " ':duck:': '🦆',\n",
       " ':dumpling:': '🥟',\n",
       " ':dvd:': '📀',\n",
       " ':e-mail:': '📧',\n",
       " ':eagle:': '🦅',\n",
       " ':ear:': '👂',\n",
       " ':ear_dark_skin_tone:': '👂🏿',\n",
       " ':ear_light_skin_tone:': '👂🏻',\n",
       " ':ear_medium-dark_skin_tone:': '👂🏾',\n",
       " ':ear_medium-light_skin_tone:': '👂🏼',\n",
       " ':ear_medium_skin_tone:': '👂🏽',\n",
       " ':ear_of_corn:': '🌽',\n",
       " ':ear_with_hearing_aid-dark_skin_tone:': '\\U0001f9bb🏿',\n",
       " ':ear_with_hearing_aid-light_skin_tone:': '\\U0001f9bb🏻',\n",
       " ':ear_with_hearing_aid-medium-dark_skin_tone:': '\\U0001f9bb🏾',\n",
       " ':ear_with_hearing_aid-medium-light_skin_tone:': '\\U0001f9bb🏼',\n",
       " ':ear_with_hearing_aid-medium_skin_tone:': '\\U0001f9bb🏽',\n",
       " ':ear_with_hearing_aid:': '\\U0001f9bb',\n",
       " ':egg:': '🍳',\n",
       " ':eggplant:': '🍆',\n",
       " ':eight-pointed_star:': '✴',\n",
       " ':eight-pointed_star_selector:': '✴️',\n",
       " ':eight-spoked_asterisk:': '✳',\n",
       " ':eight-spoked_asterisk_selector:': '✳️',\n",
       " ':eight-thirty:': '🕣',\n",
       " ':eight_o’clock:': '🕗',\n",
       " ':eject_button:': '⏏',\n",
       " ':eject_button_selector:': '⏏️',\n",
       " ':electric_plug:': '🔌',\n",
       " ':elephant:': '🐘',\n",
       " ':eleven-thirty:': '🕦',\n",
       " ':eleven_o’clock:': '🕚',\n",
       " ':elf:': '🧝',\n",
       " ':elf_dark_skin_tone:': '🧝🏿',\n",
       " ':elf_light_skin_tone:': '🧝🏻',\n",
       " ':elf_medium-dark_skin_tone:': '🧝🏾',\n",
       " ':elf_medium-light_skin_tone:': '🧝🏼',\n",
       " ':elf_medium_skin_tone:': '🧝🏽',\n",
       " ':envelope:': '✉',\n",
       " ':envelope_selector:': '✉️',\n",
       " ':envelope_with_arrow:': '📩',\n",
       " ':euro_banknote:': '💶',\n",
       " ':evergreen_tree:': '🌲',\n",
       " ':ewe:': '🐑',\n",
       " ':exclamation_mark:': '❗',\n",
       " ':exclamation_question_mark:': '⁉',\n",
       " ':exclamation_question_mark_selector:': '⁉️',\n",
       " ':exploding_head:': '🤯',\n",
       " ':expressionless_face:': '😑',\n",
       " ':eye:': '👁',\n",
       " ':eye_in_speech_bubble:': '👁\\u200d🗨',\n",
       " ':eye_in_speech_bubble_2:': '👁\\u200d🗨️',\n",
       " ':eye_in_speech_bubble_3:': '👁️\\u200d🗨️',\n",
       " ':eye_in_speech_bubble_selector:': '👁️\\u200d🗨',\n",
       " ':eye_selector:': '👁️',\n",
       " ':eyes:': '👀',\n",
       " ':face_blowing_a_kiss:': '😘',\n",
       " ':face_savoring_food:': '😋',\n",
       " ':face_screaming_in_fear:': '😱',\n",
       " ':face_vomiting:': '🤮',\n",
       " ':face_with_hand_over_mouth:': '🤭',\n",
       " ':face_with_head-bandage:': '🤕',\n",
       " ':face_with_medical_mask:': '😷',\n",
       " ':face_with_monocle:': '🧐',\n",
       " ':face_with_open_mouth:': '😮',\n",
       " ':face_with_raised_eyebrow:': '🤨',\n",
       " ':face_with_rolling_eyes:': '🙄',\n",
       " ':face_with_steam_from_nose:': '😤',\n",
       " ':face_with_symbols_on_mouth:': '🤬',\n",
       " ':face_with_tears_of_joy:': '😂',\n",
       " ':face_with_thermometer:': '🤒',\n",
       " ':face_with_tongue:': '😛',\n",
       " ':face_without_mouth:': '😶',\n",
       " ':factory:': '🏭',\n",
       " ':fairy:': '🧚',\n",
       " ':fairy_dark_skin_tone:': '🧚🏿',\n",
       " ':fairy_light_skin_tone:': '🧚🏻',\n",
       " ':fairy_medium-dark_skin_tone:': '🧚🏾',\n",
       " ':fairy_medium-light_skin_tone:': '🧚🏼',\n",
       " ':fairy_medium_skin_tone:': '🧚🏽',\n",
       " ':falafel:': '\\U0001f9c6',\n",
       " ':fallen_leaf:': '🍂',\n",
       " ':family:': '👪',\n",
       " ':family_man_boy:': '👨\\u200d👦',\n",
       " ':family_man_boy_boy:': '👨\\u200d👦\\u200d👦',\n",
       " ':family_man_girl:': '👨\\u200d👧',\n",
       " ':family_man_girl_boy:': '👨\\u200d👧\\u200d👦',\n",
       " ':family_man_girl_girl:': '👨\\u200d👧\\u200d👧',\n",
       " ':family_man_man_boy:': '👨\\u200d👨\\u200d👦',\n",
       " ':family_man_man_boy_boy:': '👨\\u200d👨\\u200d👦\\u200d👦',\n",
       " ':family_man_man_girl:': '👨\\u200d👨\\u200d👧',\n",
       " ':family_man_man_girl_boy:': '👨\\u200d👨\\u200d👧\\u200d👦',\n",
       " ':family_man_man_girl_girl:': '👨\\u200d👨\\u200d👧\\u200d👧',\n",
       " ':family_man_woman_boy:': '👨\\u200d👩\\u200d👦',\n",
       " ':family_man_woman_boy_boy:': '👨\\u200d👩\\u200d👦\\u200d👦',\n",
       " ':family_man_woman_girl:': '👨\\u200d👩\\u200d👧',\n",
       " ':family_man_woman_girl_boy:': '👨\\u200d👩\\u200d👧\\u200d👦',\n",
       " ':family_man_woman_girl_girl:': '👨\\u200d👩\\u200d👧\\u200d👧',\n",
       " ':family_woman_boy:': '👩\\u200d👦',\n",
       " ':family_woman_boy_boy:': '👩\\u200d👦\\u200d👦',\n",
       " ':family_woman_girl:': '👩\\u200d👧',\n",
       " ':family_woman_girl_boy:': '👩\\u200d👧\\u200d👦',\n",
       " ':family_woman_girl_girl:': '👩\\u200d👧\\u200d👧',\n",
       " ':family_woman_woman_boy:': '👩\\u200d👩\\u200d👦',\n",
       " ':family_woman_woman_boy_boy:': '👩\\u200d👩\\u200d👦\\u200d👦',\n",
       " ':family_woman_woman_girl:': '👩\\u200d👩\\u200d👧',\n",
       " ':family_woman_woman_girl_boy:': '👩\\u200d👩\\u200d👧\\u200d👦',\n",
       " ':family_woman_woman_girl_girl:': '👩\\u200d👩\\u200d👧\\u200d👧',\n",
       " ':fast-forward_button:': '⏩',\n",
       " ':fast_down_button:': '⏬',\n",
       " ':fast_reverse_button:': '⏪',\n",
       " ':fast_up_button:': '⏫',\n",
       " ':fax_machine:': '📠',\n",
       " ':fearful_face:': '😨',\n",
       " ':female_sign:': '♀',\n",
       " ':female_sign_selector:': '♀️',\n",
       " ':ferris_wheel:': '🎡',\n",
       " ':ferry:': '⛴',\n",
       " ':ferry_selector:': '⛴️',\n",
       " ':field_hockey:': '🏑',\n",
       " ':file_cabinet:': '🗄',\n",
       " ':file_cabinet_selector:': '🗄️',\n",
       " ':file_folder:': '📁',\n",
       " ':film_frames:': '🎞',\n",
       " ':film_frames_selector:': '🎞️',\n",
       " ':film_projector:': '📽',\n",
       " ':film_projector_selector:': '📽️',\n",
       " ':fire:': '🔥',\n",
       " ':fire_engine:': '🚒',\n",
       " ':fire_extinguisher:': '🧯',\n",
       " ':firecracker:': '🧨',\n",
       " ':fireworks:': '🎆',\n",
       " ':first_quarter_moon:': '🌓',\n",
       " ':first_quarter_moon_face:': '🌛',\n",
       " ':fish:': '🐟',\n",
       " ':fish_cake_with_swirl:': '🍥',\n",
       " ':fishing_pole:': '🎣',\n",
       " ':five-thirty:': '🕠',\n",
       " ':five_o’clock:': '🕔',\n",
       " ':flag_in_hole:': '⛳',\n",
       " ':flamingo:': '\\U0001f9a9',\n",
       " ':flashlight:': '🔦',\n",
       " ':flat_shoe:': '🥿',\n",
       " ':fleur-de-lis:': '⚜',\n",
       " ':fleur-de-lis_selector:': '⚜️',\n",
       " ':flexed_biceps:': '💪',\n",
       " ':flexed_biceps_dark_skin_tone:': '💪🏿',\n",
       " ':flexed_biceps_light_skin_tone:': '💪🏻',\n",
       " ':flexed_biceps_medium-dark_skin_tone:': '💪🏾',\n",
       " ':flexed_biceps_medium-light_skin_tone:': '💪🏼',\n",
       " ':flexed_biceps_medium_skin_tone:': '💪🏽',\n",
       " ':floppy_disk:': '💾',\n",
       " ':flower_playing_cards:': '🎴',\n",
       " ':flushed_face:': '😳',\n",
       " ...}"
      ]
     },
     "execution_count": 23,
     "metadata": {},
     "output_type": "execute_result"
    }
   ],
   "source": [
    "emoji.EMOJI_ALIAS_UNICODE"
   ]
  },
  {
   "cell_type": "code",
   "execution_count": 24,
   "metadata": {},
   "outputs": [],
   "source": [
    "class_to_label = {0 :'Angry', 1 : 'Disgust', 2:'Fear', 3 :'Happy', 4:'Sad', 5:'Surprise', 6:'Neutral'}\n",
    "class_to_emoji = {\"0\" : '\\U0001F621', \"1\" : '\\U0001f922', \"2\" : ':face_screaming_in_fear:',\"3\" : '\\U0001F600', \"4\": '\\U0001F622', \"5\" : '\\U0001F632', \"6\" : ':neutral_face:'}"
   ]
  },
  {
   "cell_type": "code",
   "execution_count": 25,
   "metadata": {},
   "outputs": [
    {
     "name": "stdout",
     "output_type": "stream",
     "text": [
      "😡\n",
      "🤢\n",
      "😱\n",
      "😀\n",
      "😢\n",
      "😲\n",
      "😐\n"
     ]
    }
   ],
   "source": [
    "for e in class_to_emoji.values():\n",
    "     print(emoji.emojize(e))"
   ]
  },
  {
   "cell_type": "markdown",
   "metadata": {},
   "source": [
    "### visualise images"
   ]
  },
  {
   "cell_type": "code",
   "execution_count": 26,
   "metadata": {},
   "outputs": [
    {
     "data": {
      "image/png": "[encoded data removed]",
      "text/plain": [
       "<Figure size 1008x720 with 20 Axes>"
      ]
     },
     "metadata": {
      "needs_background": "light"
     },
     "output_type": "display_data"
    }
   ],
   "source": [
    "fig=plt.figure(figsize=(14, 10))\n",
    "for i in range(20):\n",
    "    fig.add_subplot(5,4,i+1) \n",
    "    plt.axis('off')\n",
    "    plt.imshow(X_train[i+4].reshape(48,48),cmap='gray')\n",
    "plt.show()"
   ]
  },
  {
   "cell_type": "markdown",
   "metadata": {},
   "source": [
    "## CNN model"
   ]
  },
  {
   "cell_type": "code",
   "execution_count": 27,
   "metadata": {},
   "outputs": [
    {
     "name": "stdout",
     "output_type": "stream",
     "text": [
      "Model: \"sequential_1\"\n",
      "_________________________________________________________________\n",
      "Layer (type)                 Output Shape              Param #   \n",
      "=================================================================\n",
      "conv2d_1 (Conv2D)            (None, 46, 46, 32)        320       \n",
      "_________________________________________________________________\n",
      "conv2d_2 (Conv2D)            (None, 44, 44, 64)        18496     \n",
      "_________________________________________________________________\n",
      "max_pooling2d_1 (MaxPooling2 (None, 22, 22, 64)        0         \n",
      "_________________________________________________________________\n",
      "dropout_1 (Dropout)          (None, 22, 22, 64)        0         \n",
      "_________________________________________________________________\n",
      "conv2d_3 (Conv2D)            (None, 20, 20, 64)        36928     \n",
      "_________________________________________________________________\n",
      "max_pooling2d_2 (MaxPooling2 (None, 10, 10, 64)        0         \n",
      "_________________________________________________________________\n",
      "dropout_2 (Dropout)          (None, 10, 10, 64)        0         \n",
      "_________________________________________________________________\n",
      "conv2d_4 (Conv2D)            (None, 8, 8, 128)         73856     \n",
      "_________________________________________________________________\n",
      "max_pooling2d_3 (MaxPooling2 (None, 4, 4, 128)         0         \n",
      "_________________________________________________________________\n",
      "dropout_3 (Dropout)          (None, 4, 4, 128)         0         \n",
      "_________________________________________________________________\n",
      "flatten_1 (Flatten)          (None, 2048)              0         \n",
      "_________________________________________________________________\n",
      "dense_1 (Dense)              (None, 512)               1049088   \n",
      "_________________________________________________________________\n",
      "dropout_4 (Dropout)          (None, 512)               0         \n",
      "_________________________________________________________________\n",
      "dense_2 (Dense)              (None, 512)               262656    \n",
      "_________________________________________________________________\n",
      "dropout_5 (Dropout)          (None, 512)               0         \n",
      "_________________________________________________________________\n",
      "dense_3 (Dense)              (None, 7)                 3591      \n",
      "=================================================================\n",
      "Total params: 1,444,935\n",
      "Trainable params: 1,444,935\n",
      "Non-trainable params: 0\n",
      "_________________________________________________________________\n"
     ]
    }
   ],
   "source": [
    "model = Sequential()\n",
    "\n",
    "model.add(Convolution2D(32,(3,3),activation='relu',input_shape=(48,48,1)))\n",
    "model.add(Convolution2D(64,(3,3),activation='relu'))\n",
    "model.add(MaxPooling2D(2,2))         # filter size nd stride size\n",
    "model.add(Dropout(0.25))\n",
    "\n",
    "model.add(Convolution2D(64,(3,3),activation='relu'))\n",
    "model.add(MaxPooling2D(2,2))\n",
    "model.add(Dropout(0.25)) \n",
    "\n",
    "model.add(Convolution2D(128,(3,3),activation='relu'))\n",
    "model.add(MaxPooling2D(2,2))\n",
    "model.add(Dropout(0.25)) \n",
    "\n",
    "model.add(Flatten())         # reshape function which make ur 3d volume to linearly \n",
    "\n",
    "model.add(Dense(512,activation='relu'))\n",
    "model.add(Dropout(0.5)) \n",
    "\n",
    "model.add(Dense(512,activation='relu'))\n",
    "model.add(Dropout(0.5)) \n",
    "model.add(Dense(7,activation='softmax'))\n",
    "model.summary()"
   ]
  },
  {
   "cell_type": "code",
   "execution_count": 28,
   "metadata": {},
   "outputs": [],
   "source": [
    "model.compile(loss=\"categorical_crossentropy\",optimizer='adam', metrics=['accuracy'])"
   ]
  },
  {
   "cell_type": "code",
   "execution_count": 29,
   "metadata": {},
   "outputs": [],
   "source": [
    "checkpoint=ModelCheckpoint(\"best_model.h5\", monitor='val_loss',save_best_only=True,  mode='min')\n",
    "earlystop  = EarlyStopping(monitor='val_loss', min_delta=0.01, patience=5, verbose=1, restore_best_weights=True)"
   ]
  },
  {
   "cell_type": "code",
   "execution_count": null,
   "metadata": {},
   "outputs": [
    {
     "name": "stdout",
     "output_type": "stream",
     "text": [
      "Train on 27273 samples, validate on 1436 samples\n",
      "Epoch 1/20\n",
      "27273/27273 [==============================] - 184s 7ms/step - loss: 1.8254 - accuracy: 0.2456 - val_loss: 1.8059 - val_accuracy: 0.2319\n",
      "Epoch 2/20\n",
      "27273/27273 [==============================] - 190s 7ms/step - loss: 1.7391 - accuracy: 0.2882 - val_loss: 1.6421 - val_accuracy: 0.3308\n",
      "Epoch 3/20\n",
      "27273/27273 [==============================] - 191s 7ms/step - loss: 1.5553 - accuracy: 0.3894 - val_loss: 1.4370 - val_accuracy: 0.4499\n",
      "Epoch 4/20\n",
      "27273/27273 [==============================] - 182s 7ms/step - loss: 1.4096 - accuracy: 0.4562 - val_loss: 1.3024 - val_accuracy: 0.4993\n",
      "Epoch 5/20\n",
      "27273/27273 [==============================] - 182s 7ms/step - loss: 1.3173 - accuracy: 0.4945 - val_loss: 1.2276 - val_accuracy: 0.5306\n",
      "Epoch 6/20\n",
      "27273/27273 [==============================] - 195s 7ms/step - loss: 1.2588 - accuracy: 0.5225 - val_loss: 1.1954 - val_accuracy: 0.5550\n",
      "Epoch 7/20\n",
      " 2816/27273 [==>...........................] - ETA: 2:45 - loss: 1.2449 - accuracy: 0.5234"
     ]
    }
   ],
   "source": [
    "hist = model.fit(X_train,y_train,validation_split=0.05,epochs=20,batch_size=256,callbacks=[checkpoint,earlystop])"
   ]
  },
  {
   "cell_type": "code",
   "execution_count": 45,
   "metadata": {},
   "outputs": [
    {
     "name": "stdout",
     "output_type": "stream",
     "text": [
      "28709/28709 [==============================] - 52s 2ms/step\n"
     ]
    },
    {
     "data": {
      "text/plain": [
       "[0.8330311710182006, 0.6975861191749573]"
      ]
     },
     "execution_count": 45,
     "metadata": {},
     "output_type": "execute_result"
    }
   ],
   "source": [
    "model.evaluate(X_train,y_train)"
   ]
  },
  {
   "cell_type": "code",
   "execution_count": 46,
   "metadata": {},
   "outputs": [
    {
     "name": "stdout",
     "output_type": "stream",
     "text": [
      "3589/3589 [==============================] - 6s 2ms/step\n"
     ]
    },
    {
     "data": {
      "text/plain": [
       "[1.0606920377694653, 0.5976595282554626]"
      ]
     },
     "execution_count": 46,
     "metadata": {},
     "output_type": "execute_result"
    }
   ],
   "source": [
    "model.evaluate(X_test, y_test)"
   ]
  },
  {
   "cell_type": "code",
   "execution_count": 48,
   "metadata": {},
   "outputs": [
    {
     "data": {
      "text/plain": [
       "<matplotlib.legend.Legend at 0x19c9f0a0f08>"
      ]
     },
     "execution_count": 48,
     "metadata": {},
     "output_type": "execute_result"
    },
    {
     "data": {
      "image/png": "[encoded data removed]",
      "text/plain": [
       "<Figure size 432x288 with 1 Axes>"
      ]
     },
     "metadata": {
      "needs_background": "light"
     },
     "output_type": "display_data"
    }
   ],
   "source": [
    "plt.plot(hist.history['accuracy'], label=\"Accuracy\")\n",
    "plt.plot(hist.history['val_accuracy'], label=\"Validation Accuracy\")\n",
    "plt.legend()"
   ]
  },
  {
   "cell_type": "code",
   "execution_count": 49,
   "metadata": {},
   "outputs": [
    {
     "data": {
      "text/plain": [
       "<matplotlib.legend.Legend at 0x19cd2c11648>"
      ]
     },
     "execution_count": 49,
     "metadata": {},
     "output_type": "execute_result"
    },
    {
     "data": {
      "image/png": "[encoded data removed]",
      "text/plain": [
       "<Figure size 432x288 with 1 Axes>"
      ]
     },
     "metadata": {
      "needs_background": "light"
     },
     "output_type": "display_data"
    }
   ],
   "source": [
    "plt.plot(hist.history['loss'], label=\"Loss\")\n",
    "plt.plot(hist.history['val_loss'], label=\"Validation Loss\")\n",
    "plt.legend()"
   ]
  },
  {
   "cell_type": "code",
   "execution_count": 50,
   "metadata": {},
   "outputs": [],
   "source": [
    "pred=model.predict_classes(X_test)"
   ]
  },
  {
   "cell_type": "code",
   "execution_count": 51,
   "metadata": {},
   "outputs": [
    {
     "data": {
      "text/plain": [
       "array([0, 1, 0, ..., 6, 0, 6], dtype=int64)"
      ]
     },
     "execution_count": 51,
     "metadata": {},
     "output_type": "execute_result"
    }
   ],
   "source": [
    "pred"
   ]
  },
  {
   "cell_type": "code",
   "execution_count": 59,
   "metadata": {},
   "outputs": [
    {
     "name": "stdout",
     "output_type": "stream",
     "text": [
      "Prediction=> Sad😢\n"
     ]
    },
    {
     "data": {
      "image/png": "[encoded data removed]",
      "text/plain": [
       "<Figure size 432x288 with 1 Axes>"
      ]
     },
     "metadata": {
      "needs_background": "light"
     },
     "output_type": "display_data"
    }
   ],
   "source": [
    "print(\"Prediction=>\",(class_to_label[pred[171]]+class_to_emoji[str(pred[171])]))\n",
    "plt.imshow(X_test[171].reshape(48,48),cmap='gray')\n",
    "plt.show()"
   ]
  },
  {
   "cell_type": "code",
   "execution_count": 3,
   "metadata": {},
   "outputs": [],
   "source": [
    "# load model\n",
    "model = load_model(\"best_model.h5\")"
   ]
  },
  {
   "cell_type": "code",
   "execution_count": 4,
   "metadata": {},
   "outputs": [],
   "source": [
    "from PIL import Image, ImageFont, ImageDraw"
   ]
  },
  {
   "cell_type": "markdown",
   "metadata": {},
   "source": [
    "## Use Webcam"
   ]
  },
  {
   "cell_type": "code",
   "execution_count": 7,
   "metadata": {},
   "outputs": [],
   "source": [
    "cap=cv2.VideoCapture(0)\n",
    "face_cascade=cv2.CascadeClassifier(\"haarcascade_frontalface_default.xml\")\n",
    "while True:\n",
    "    ret,frame=cap.read()\n",
    "    if ret == False:\n",
    "        continue\n",
    "    gray_frame=cv2.cvtColor(frame,cv2.COLOR_BGR2GRAY)\n",
    "    faces=face_cascade.detectMultiScale(gray_frame,1.3,5)\n",
    "    \n",
    "    for face in faces:\n",
    "        x,y,w,h = face\n",
    "        offset=10\n",
    "        face_section = gray_frame[y-offset:y+h+offset,x-offset:x+w+offset]\n",
    "        \n",
    "        face_section = cv2.resize(face_section,(48,48))     \n",
    "                \n",
    "        pred = np.argmax(model.predict(face_section.reshape(1,48,48,1)))\n",
    "        label = class_to_label[pred]\n",
    "        cv2.putText(frame,label,(x,y-10),cv2.FONT_HERSHEY_SIMPLEX,1,(0,255,255),2)\n",
    "        \n",
    "        fontpath = \"./Symbola.ttf\" \n",
    "        font = ImageFont.truetype(fontpath, 32)\n",
    "        img_pil = Image.fromarray(frame)\n",
    "        draw = ImageDraw.Draw(img_pil)\n",
    "        draw.text((x,y-10),str(emoji.emojize(class_to_emoji[str(pred)])), font = font)\n",
    "        img = np.array(img_pil)\n",
    "        cv2.rectangle(frame,(x,y),(x+w,y+h),(0,0,255),2)\n",
    "        \n",
    "        cv2.imshow(\"Emotion\", img)\n",
    "\n",
    "    key_pressed=cv2.waitKey(1) & 0xFF\n",
    "\n",
    "    if key_pressed == ord('q'):\n",
    "        break\n",
    "\n",
    "cap.release()  \n",
    "cv2.destroyAllWindows()"
   ]
  },
  {
   "cell_type": "code",
   "execution_count": 2,
   "metadata": {},
   "outputs": [],
   "source": [
    "from PIL import Image, ImageFont, ImageDraw\n",
    "import numpy as np\n",
    "import cv2\n",
    "import emoji\n",
    "\n",
    "# Open image with OpenCV\n",
    "im_o = cv2.imread('elephant.jpg')\n",
    "\n",
    "# Make into PIL Image\n",
    "im_p = Image.fromarray(im_o)\n",
    "\n",
    "# Get a drawing context\n",
    "draw = ImageDraw.Draw(im_p)\n",
    "font = ImageFont.truetype(\"arial-unicode-ms.ttf\",32)\n",
    "tick=str(emoji.emojize(':face_screaming_in_fear:'))\n",
    "draw.text((40, 80),tick,(255,255,255),font=font)\n",
    "\n",
    "# Convert back to OpenCV image and save\n",
    "result_o = np.array(im_p)\n",
    "cv2.imshow('result.jpg', result_o)"
   ]
  },
  {
   "cell_type": "code",
   "execution_count": 8,
   "metadata": {},
   "outputs": [],
   "source": [
    "cap=cv2.VideoCapture(0)\n",
    "face_cascade=cv2.CascadeClassifier(\"haarcascade_frontalface_default.xml\")\n",
    "while True:\n",
    "    ret,frame=cap.read()\n",
    "    if ret == False:\n",
    "        continue\n",
    "    gray_frame=cv2.cvtColor(frame,cv2.COLOR_BGR2GRAY)\n",
    "    faces=face_cascade.detectMultiScale(gray_frame,1.3,5)\n",
    "    \n",
    "    for face in faces:\n",
    "        x,y,w,h = face\n",
    "        offset=10\n",
    "        face_section = gray_frame[y-offset:y+h+offset,x-offset:x+w+offset]\n",
    "        \n",
    "        face_section = cv2.resize(face_section,(48,48))     \n",
    "                \n",
    "        pred = np.argmax(model.predict(face_section.reshape(1,48,48,1)))\n",
    "        label = class_to_label[pred]\n",
    "        cv2.putText(frame,label,(x,y-10),cv2.FONT_HERSHEY_SIMPLEX,1,(0,255,255),2)\n",
    "        \n",
    "        fontpath = \"./arial-unicode-ms.ttf\"\n",
    "        font = ImageFont.truetype(fontpath, 32)\n",
    "        img_pil = Image.fromarray(frame)\n",
    "        draw = ImageDraw.Draw(img_pil)\n",
    "        tick=str(emoji.emojize(class_to_emoji[str(pred)]))\n",
    "        draw.text((x,y-10),tick, font = font)\n",
    "        img = np.array(img_pil)\n",
    "        cv2.rectangle(frame,(x,y),(x+w,y+h),(0,0,255),2)\n",
    "        \n",
    "        cv2.imshow(\"Emotion\", img)\n",
    "\n",
    "    key_pressed=cv2.waitKey(1) & 0xFF\n",
    "\n",
    "    if key_pressed == ord('q'):\n",
    "        break\n",
    "\n",
    "cap.release()  \n",
    "cv2.destroyAllWindows()"
   ]
  },
  {
   "cell_type": "code",
   "execution_count": null,
   "metadata": {},
   "outputs": [],
   "source": []
  }
 ],
 "metadata": {
  "kernelspec": {
   "display_name": "Python 3",
   "language": "python",
   "name": "python3"
  },
  "language_info": {
   "codemirror_mode": {
    "name": "ipython",
    "version": 3
   },
   "file_extension": ".py",
   "mimetype": "text/x-python",
   "name": "python",
   "nbconvert_exporter": "python",
   "pygments_lexer": "ipython3",
   "version": "3.7.4"
  }
 },
 "nbformat": 4,
 "nbformat_minor": 4
}
